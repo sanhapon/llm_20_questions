{
  "cells": [
    {
      "cell_type": "markdown",
      "metadata": {
        "id": "view-in-github",
        "colab_type": "text"
      },
      "source": [
        "<a href=\"https://colab.research.google.com/github/sanhapon/llm_20_questions/blob/main/llm_20_questions.ipynb\" target=\"_parent\"><img src=\"https://colab.research.google.com/assets/colab-badge.svg\" alt=\"Open In Colab\"/></a>"
      ]
    },
    {
      "cell_type": "code",
      "execution_count": null,
      "metadata": {
        "id": "9q4uEtXjEbhe"
      },
      "outputs": [],
      "source": [
        "!pip install transformers datasets"
      ]
    },
    {
      "cell_type": "code",
      "execution_count": null,
      "metadata": {
        "id": "3CaCFFKdGDKW"
      },
      "outputs": [],
      "source": [
        "from transformers import AutoTokenizer, AutoModelForCausalLM\n",
        "\n",
        "tokenizer = AutoTokenizer.from_pretrained(\"google/gemma-2b-it\")\n",
        "model = AutoModelForCausalLM.from_pretrained(\"google/gemma-2b-it\")"
      ]
    },
    {
      "cell_type": "code",
      "execution_count": 3,
      "metadata": {
        "id": "Il3OEnWvGRMq"
      },
      "outputs": [],
      "source": [
        "import torch\n",
        "\n",
        "if torch.cuda.is_available():\n",
        "  model = model.to(\"cuda\")"
      ]
    },
    {
      "cell_type": "code",
      "execution_count": 42,
      "metadata": {
        "colab": {
          "base_uri": "https://localhost:8080/"
        },
        "id": "y6C3RflJII4Y",
        "outputId": "57b307e9-3159-4d4d-db80-4430e323ea2b"
      },
      "outputs": [
        {
          "output_type": "stream",
          "name": "stdout",
          "text": [
            "user\n",
            "We are playing the 20 Questions game. The questioner's goal is to ask the question and guess for secret. The secret in the game is the country or city name.\n",
            "          The sample question: Is it a Asia continent? \n",
            "          Now, you are the questioner, generate a yes-or-no question to find the place. Enclose your question in **.\n",
            "Is it a city in the state of California, USA?\n"
          ]
        }
      ],
      "source": [
        "chat = [\n",
        "      { \"role\": \"user\", \"content\":\n",
        "          f\"\"\"We are playing the 20 Questions game. The questioner's goal is to ask the question and guess for secret. The secret in the game is the country or city name.\n",
        "          The sample question: Is it a Asia continent?\n",
        "          Now, you are the questioner, generate a yes-or-no question to find the place. Enclose your question in **.\n",
        "          \"\"\"\n",
        "      },\n",
        "]\n",
        "\n",
        "prompt = tokenizer.apply_chat_template(chat, tokenize=False, add_generation_prompt=False)\n",
        "inputs = tokenizer.encode(prompt, add_special_tokens=False, return_tensors=\"pt\")\n",
        "output_sequences = model.generate(\n",
        "    input_ids=inputs.to(model.device),\n",
        "    max_new_tokens=150,\n",
        "    do_sample=True,\n",
        "    temperature=0.1,\n",
        "    top_k=1,\n",
        "    top_p=0.1,\n",
        ")\n",
        "\n",
        "outputs = tokenizer.decode(output_sequences[0], skip_special_tokens=True)\n",
        "print(outputs)"
      ]
    },
    {
      "cell_type": "code",
      "execution_count": 49,
      "metadata": {
        "colab": {
          "base_uri": "https://localhost:8080/"
        },
        "id": "w6x6uBCSJYs5",
        "outputId": "58ba01b9-0555-4d73-e35f-62eac34f8b3b"
      },
      "outputs": [
        {
          "output_type": "stream",
          "name": "stdout",
          "text": [
            "user\n",
            "Convert the yes-or-no question to declarative sentence, for example: \"Is it a cat?\", \"Yes\". The declarative sentence would be \"It is a cat\".\n",
            "        Here is the yes-or-no question from previous round: \"Is it a city in the state of California, USA?\",  \"Yes\".\n",
            "        Enclose your declarative sentence with *..\n",
            "Sure, here is the declarative sentence for the yes-or-no question \"Is it a city in the state of California, USA?\"\n",
            "\n",
            "*It is a city in the state of California, USA.*\n"
          ]
        }
      ],
      "source": [
        "chat = [\n",
        "    { \"role\": \"user\", \"content\":\n",
        "       \"\"\"Convert the yes-or-no question to declarative sentence, for example: \"Is it a cat?\", \"Yes\". The declarative sentence would be \"It is a cat\".\n",
        "        Here is the yes-or-no question from previous round: \"Is it a city in the state of California, USA?\",  \"Yes\".\n",
        "        Enclose your declarative sentence with *..\n",
        "        \"\"\"\n",
        "      },\n",
        "]\n",
        "\n",
        "prompt = tokenizer.apply_chat_template(chat, tokenize=False, add_generation_prompt=False)\n",
        "inputs = tokenizer.encode(prompt, add_special_tokens=False, return_tensors=\"pt\")\n",
        "output_sequences = model.generate(\n",
        "    input_ids=inputs.to(model.device),\n",
        "    max_new_tokens=50,\n",
        "    do_sample=True,\n",
        "    temperature=0.1,\n",
        "    top_k=1,\n",
        "    top_p=0.1\n",
        ")\n",
        "\n",
        "outputs = tokenizer.decode(output_sequences[0], skip_special_tokens=True)\n",
        "print(outputs)"
      ]
    },
    {
      "cell_type": "code",
      "execution_count": 50,
      "metadata": {
        "id": "ZFBXwYg3Jj9i",
        "colab": {
          "base_uri": "https://localhost:8080/"
        },
        "outputId": "6cb454d2-ef77-4db8-b80e-d34bfea4cf29"
      },
      "outputs": [
        {
          "output_type": "stream",
          "name": "stdout",
          "text": [
            "user\n",
            "We are continuing playing the 20 Questions game.\n",
            "        The sample question: Is it a Asia continent? \n",
            "        Based on this information \"It is a city in the state of California, USA.\"\n",
            "        Now, you are the questioner, generate yes-or-no question to find \"specific\" place. Enclose your question with *.\n",
            "Is it a city in the state of California, USA that is known for its beautiful beaches?\n"
          ]
        }
      ],
      "source": [
        "chat = [\n",
        "    { \"role\": \"user\", \"content\":\n",
        "     f\"\"\"We are continuing playing the 20 Questions game.\n",
        "        The sample question: Is it a Asia continent?\n",
        "        Based on this information \\\"It is a city in the state of California, USA.\\\"\n",
        "        Now, you are the questioner, generate yes-or-no question to find \"specific\" place. Enclose your question with *.\n",
        "        \"\"\"\n",
        "      },\n",
        "\n",
        "    # The secret relates to {\"It is a country in the Middle East.\"}\n",
        "    # Now, you are the questioner, generate yes-or-no question to narrow scope of the secret place.\n",
        "]\n",
        "\n",
        "prompt = tokenizer.apply_chat_template(chat, tokenize=False, add_generation_prompt=False)\n",
        "inputs = tokenizer.encode(prompt, add_special_tokens=True, return_tensors=\"pt\")\n",
        "output_sequences = model.generate(\n",
        "    input_ids=inputs.to(model.device),\n",
        "    max_new_tokens=100,\n",
        "    do_sample=True,\n",
        "    temperature=0.1,\n",
        "    top_k=1,\n",
        "    top_p=0.1\n",
        ")\n",
        "\n",
        "outputs = tokenizer.decode(output_sequences[0], skip_special_tokens=True)\n",
        "print(outputs)\n"
      ]
    },
    {
      "cell_type": "code",
      "execution_count": 98,
      "metadata": {
        "id": "esTtALd_KYLY",
        "colab": {
          "base_uri": "https://localhost:8080/"
        },
        "outputId": "69cf1f18-66ff-45e4-a69b-9ae0090223dc"
      },
      "outputs": [
        {
          "output_type": "stream",
          "name": "stdout",
          "text": [
            "user\n",
            "We are continuing playing the 20 Questions game.\n",
            "        Based on this information \"It is the beach in the Southern of Thailand\".\n",
            "        Guess the place based on above information.\n",
            "Songkla Beach is located in the Southern province of Thailand. It is known for its pristine beaches, turquoise waters, and vibrant nightlife.\n"
          ]
        }
      ],
      "source": [
        "chat = [\n",
        "    { \"role\": \"user\", \"content\":\n",
        "     f\"\"\"We are continuing playing the 20 Questions game.\n",
        "        Based on this information \\\"It is the beach in the Southern of Thailand\\\".\n",
        "        Guess the place based on above information.\n",
        "        \"\"\"\n",
        "      },\n",
        "]\n",
        "\n",
        "    # Based on this information \\\"It is a country in the Middle East that is known for its ancient ruins and is also a popular tourist destination in the **desert**\\\"\n",
        "\n",
        "prompt = tokenizer.apply_chat_template(chat, tokenize=False, add_generation_prompt=False)\n",
        "inputs = tokenizer.encode(prompt, add_special_tokens=True, return_tensors=\"pt\")\n",
        "output_sequences = model.generate(\n",
        "    input_ids=inputs.to(model.device),\n",
        "    max_new_tokens=100,\n",
        "    do_sample=True,\n",
        "    temperature=0.1,\n",
        "    top_k=1,\n",
        "    top_p=0.1\n",
        ")\n",
        "\n",
        "outputs = tokenizer.decode(output_sequences[0], skip_special_tokens=True)\n",
        "print(outputs)\n"
      ]
    },
    {
      "cell_type": "code",
      "source": [],
      "metadata": {
        "id": "AYYiQJ9l2Nol"
      },
      "execution_count": null,
      "outputs": []
    }
  ],
  "metadata": {
    "colab": {
      "provenance": [],
      "authorship_tag": "ABX9TyMQJWLzungvHnqyVQcH56yv",
      "include_colab_link": true
    },
    "kernelspec": {
      "display_name": "Python 3",
      "name": "python3"
    },
    "language_info": {
      "name": "python"
    }
  },
  "nbformat": 4,
  "nbformat_minor": 0
}